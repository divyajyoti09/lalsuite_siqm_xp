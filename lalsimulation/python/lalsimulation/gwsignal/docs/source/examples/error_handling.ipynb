{
 "cells": [
  {
   "cell_type": "markdown",
   "id": "bf51f93c",
   "metadata": {},
   "source": [
    "# Error handling in GWSignal"
   ]
  },
  {
   "cell_type": "markdown",
   "id": "1e1ea33d",
   "metadata": {},
   "source": [
    "This notebook is directed mainly towards waveform developers that would need a good comprehension of the inner workings of the interface."
   ]
  },
  {
   "cell_type": "code",
   "execution_count": 8,
   "id": "62949ec7",
   "metadata": {
    "scrolled": true
   },
   "outputs": [],
   "source": [
    "import numpy as np\n",
    "import matplotlib.pyplot as plt\n",
    "%matplotlib inline\n",
    "\n",
    "# Import lalsuite packages\n",
    "import lalsimulation as lalsim\n",
    "import lal\n",
    "\n",
    "# Import GWSignal packagess\n",
    "import lalsimulation.gwsignal as gw\n",
    "import lalsimulation.gwsignal.core.utils as ut\n",
    "import lalsimulation.gwsignal.core.waveform as wfm\n",
    "\n",
    "# Import astropy and GWPy \n",
    "import astropy.units as u\n",
    "from gwpy.timeseries import TimeSeries\n"
   ]
  },
  {
   "cell_type": "code",
   "execution_count": 9,
   "id": "a69341ee",
   "metadata": {},
   "outputs": [],
   "source": [
    "# Mass / spin parameters\n",
    "m1 = 50.*u.solMass\n",
    "m2 = 70.*u.solMass\n",
    "s1x = 1.8*u.dimensionless_unscaled # this is set to trigger an error message below\n",
    "s1y = 0.*u.dimensionless_unscaled\n",
    "s1z = 0.*u.dimensionless_unscaled\n",
    "s2x = 0.*u.dimensionless_unscaled\n",
    "s2y = 0.*u.dimensionless_unscaled\n",
    "s2z = 0.*u.dimensionless_unscaled\n",
    "\n",
    "deltaT = 1./1024.*u.s\n",
    "f_min = 20.*u.Hz\n",
    "f_ref = 20.*u.Hz\n",
    "distance = 1000.*u.Mpc\n",
    "inclination = 0.*u.rad\n",
    "phiRef = 0.*u.rad\n",
    "eccentricity = 0.*u.dimensionless_unscaled\n",
    "longAscNodes = 0.*u.rad\n",
    "meanPerAno = 0.*u.rad\n",
    "\n",
    "# Whether the waveforms should be conditioned or not\n",
    "condition = 1\n",
    "\n",
    "\n",
    "approximant = 'IMRPhenomTPHM'\n"
   ]
  },
  {
   "cell_type": "code",
   "execution_count": 10,
   "id": "63cbe3bf",
   "metadata": {},
   "outputs": [],
   "source": [
    "python_dict = {'mass1' : m1,\n",
    "              'mass2' : m2,\n",
    "              'spin1x' : s1x,\n",
    "              'spin1y' : s1y,\n",
    "              'spin1z' : s1z,\n",
    "              'spin2x' : s2x,\n",
    "              'spin2y' : s2y,\n",
    "              'spin2z' : s2z,\n",
    "              'deltaT' : deltaT,\n",
    "               'deltaF' : 1./1024.*u.Hz,\n",
    "              'f22_start' : f_min,\n",
    "               'f_max' : 1024.*u.Hz,\n",
    "              'f22_ref': f_ref,\n",
    "              'phi_ref' : phiRef,\n",
    "              'distance' : distance,\n",
    "              'inclination' : inclination,\n",
    "              'eccentricity' : eccentricity,\n",
    "              'longAscNodes' : longAscNodes,\n",
    "              'meanPerAno' : meanPerAno,\n",
    "              'condition' : condition}\n"
   ]
  },
  {
   "cell_type": "code",
   "execution_count": 11,
   "id": "6ca37359",
   "metadata": {},
   "outputs": [],
   "source": [
    "gen = wfm.LALCompactBinaryCoalescenceGenerator(approximant)"
   ]
  },
  {
   "cell_type": "code",
   "execution_count": 12,
   "id": "fa3119be",
   "metadata": {},
   "outputs": [
    {
     "name": "stderr",
     "output_type": "stream",
     "text": [
      "XLAL Error - IMRPhenomXGetAndSetPrecessionVariables (LALSimIMRPhenomX_precession.c:203): Error in IMRPhenomXSetPrecessionVariables: |S2/m2^2| must be <= 1.\n",
      "\n",
      "XLAL Error - IMRPhenomXGetAndSetPrecessionVariables (LALSimIMRPhenomX_precession.c:203): Input domain error\n",
      "XLAL Error - XLALSimIMRPhenomTPHM_CoprecModes (LALSimIMRPhenomTPHM.c:657): Error: IMRPhenomXSetPrecessionVariables failed.\n",
      "\n",
      "XLAL Error - XLALSimIMRPhenomTPHM_CoprecModes (LALSimIMRPhenomTPHM.c:657): Internal function call failed: Input domain error\n",
      "XLAL Error - XLALSimIMRPhenomTPHM_JModes (LALSimIMRPhenomTPHM.c:449): Error: function XLALSimIMRPhenomTPHM_JModes has failed.\n",
      "XLAL Error - XLALSimIMRPhenomTPHM_JModes (LALSimIMRPhenomTPHM.c:449): Internal function call failed: Input domain error\n",
      "XLAL Error - XLALSimIMRPhenomTPHM_L0Modes (LALSimIMRPhenomTPHM.c:360): Error: function XLALSimIMRPhenomTPHM_JModes has failed.\n",
      "XLAL Error - XLALSimIMRPhenomTPHM_L0Modes (LALSimIMRPhenomTPHM.c:360): Internal function call failed: Input domain error\n",
      "XLAL Error - XLALSimIMRPhenomTPHM (LALSimIMRPhenomTPHM.c:249): Error: function XLALSimIMRPhenomTPHM_L0Modes has failed.\n",
      "XLAL Error - XLALSimIMRPhenomTPHM (LALSimIMRPhenomTPHM.c:249): Internal function call failed: Input domain error\n",
      "XLAL Error - XLALSimInspiralChooseTDWaveform_legacy (LALSimInspiralGeneratorLegacy.c:1179): Internal function call failed: Input domain error\n"
     ]
    },
    {
     "ename": "ValueError",
     "evalue": "Input domain error",
     "output_type": "error",
     "traceback": [
      "\u001b[0;31m---------------------------------------------------------------------------\u001b[0m",
      "\u001b[0;31mValueError\u001b[0m                                Traceback (most recent call last)",
      "Cell \u001b[0;32mIn[12], line 1\u001b[0m\n\u001b[0;32m----> 1\u001b[0m hp, hc \u001b[38;5;241m=\u001b[39m \u001b[43mwfm\u001b[49m\u001b[38;5;241;43m.\u001b[39;49m\u001b[43mGenerateTDWaveform\u001b[49m\u001b[43m(\u001b[49m\u001b[43mpython_dict\u001b[49m\u001b[43m,\u001b[49m\u001b[43m \u001b[49m\u001b[43mgen\u001b[49m\u001b[43m)\u001b[49m\n",
      "File \u001b[0;32m~/lalsuite/_inst/lib/python3.10/site-packages/lalsimulation/gwsignal/core/waveform.py:626\u001b[0m, in \u001b[0;36mGenerateTDWaveform\u001b[0;34m(parameter_dict, generator)\u001b[0m\n\u001b[1;32m    624\u001b[0m \u001b[38;5;28;01mif\u001b[39;00m conditioning \u001b[38;5;129;01mand\u001b[39;00m conditioning_routines\u001b[38;5;241m==\u001b[39m\u001b[38;5;124m'\u001b[39m\u001b[38;5;124mgwsignal\u001b[39m\u001b[38;5;124m'\u001b[39m:\n\u001b[1;32m    625\u001b[0m     generator_func \u001b[38;5;241m=\u001b[39m conditioning_generator(generator)\n\u001b[0;32m--> 626\u001b[0m     hp, hc \u001b[38;5;241m=\u001b[39m \u001b[43mgenerator_func\u001b[49m\u001b[43m(\u001b[49m\u001b[43mparameter_dict\u001b[49m\u001b[43m,\u001b[49m\u001b[43m \u001b[49m\u001b[43mgenerator\u001b[49m\u001b[43m)\u001b[49m\n\u001b[1;32m    627\u001b[0m \u001b[38;5;28;01melse\u001b[39;00m:\n\u001b[1;32m    628\u001b[0m     hp, hc \u001b[38;5;241m=\u001b[39m generator\u001b[38;5;241m.\u001b[39mgenerate_td_waveform(\u001b[38;5;241m*\u001b[39m\u001b[38;5;241m*\u001b[39mparameter_dict)\n",
      "File \u001b[0;32m~/lalsuite/_inst/lib/python3.10/site-packages/lalsimulation/gwsignal/core/waveform_conditioning.py:92\u001b[0m, in \u001b[0;36mgenerate_conditioned_td_waveform_from_td\u001b[0;34m(parameter_dict, generator)\u001b[0m\n\u001b[1;32m     90\u001b[0m \u001b[38;5;66;03m# Generate the new waveform\u001b[39;00m\n\u001b[1;32m     91\u001b[0m new_parameters[\u001b[38;5;124m'\u001b[39m\u001b[38;5;124mcondition\u001b[39m\u001b[38;5;124m'\u001b[39m]\u001b[38;5;241m=\u001b[39m\u001b[38;5;241m0\u001b[39m\n\u001b[0;32m---> 92\u001b[0m hp, hc \u001b[38;5;241m=\u001b[39m \u001b[43mwave\u001b[49m\u001b[38;5;241;43m.\u001b[39;49m\u001b[43mGenerateTDWaveform\u001b[49m\u001b[43m(\u001b[49m\u001b[43mnew_parameters\u001b[49m\u001b[43m,\u001b[49m\u001b[43m \u001b[49m\u001b[43mgenerator\u001b[49m\u001b[43m)\u001b[49m\n\u001b[1;32m     94\u001b[0m times \u001b[38;5;241m=\u001b[39m hp\u001b[38;5;241m.\u001b[39mtimes\n\u001b[1;32m     95\u001b[0m dt \u001b[38;5;241m=\u001b[39m hp\u001b[38;5;241m.\u001b[39mdt\u001b[38;5;241m.\u001b[39mvalue\n",
      "File \u001b[0;32m~/lalsuite/_inst/lib/python3.10/site-packages/lalsimulation/gwsignal/core/waveform.py:628\u001b[0m, in \u001b[0;36mGenerateTDWaveform\u001b[0;34m(parameter_dict, generator)\u001b[0m\n\u001b[1;32m    626\u001b[0m     hp, hc \u001b[38;5;241m=\u001b[39m generator_func(parameter_dict, generator)\n\u001b[1;32m    627\u001b[0m \u001b[38;5;28;01melse\u001b[39;00m:\n\u001b[0;32m--> 628\u001b[0m     hp, hc \u001b[38;5;241m=\u001b[39m \u001b[43mgenerator\u001b[49m\u001b[38;5;241;43m.\u001b[39;49m\u001b[43mgenerate_td_waveform\u001b[49m\u001b[43m(\u001b[49m\u001b[38;5;241;43m*\u001b[39;49m\u001b[38;5;241;43m*\u001b[39;49m\u001b[43mparameter_dict\u001b[49m\u001b[43m)\u001b[49m\n\u001b[1;32m    630\u001b[0m \u001b[38;5;66;03m#hp, hc = to_gwpy_Series(hp), to_gwpy_Series(hc)\u001b[39;00m\n\u001b[1;32m    631\u001b[0m \u001b[38;5;28;01mreturn\u001b[39;00m gw\u001b[38;5;241m.\u001b[39mGravitationalWavePolarizations(hp, hc)\n",
      "File \u001b[0;32m~/lalsuite/_inst/lib/python3.10/site-packages/lalsimulation/gwsignal/core/waveform.py:341\u001b[0m, in \u001b[0;36mLALCompactBinaryCoalescenceGenerator.generate_td_waveform\u001b[0;34m(self, **parameters)\u001b[0m\n\u001b[1;32m    337\u001b[0m \u001b[38;5;129m@err\u001b[39m\u001b[38;5;241m.\u001b[39mmapexception\n\u001b[1;32m    338\u001b[0m \u001b[38;5;28;01mdef\u001b[39;00m \u001b[38;5;21mgen_pol_func\u001b[39m(lal_dict, lal_generator):\n\u001b[1;32m    339\u001b[0m     \u001b[38;5;28;01mreturn\u001b[39;00m \u001b[38;5;28mself\u001b[39m\u001b[38;5;241m.\u001b[39m_pol_gen_function(lal_dict, lal_generator)\n\u001b[0;32m--> 341\u001b[0m hp, hc \u001b[38;5;241m=\u001b[39m \u001b[43mgen_pol_func\u001b[49m\u001b[43m(\u001b[49m\u001b[38;5;28;43mself\u001b[39;49m\u001b[38;5;241;43m.\u001b[39;49m\u001b[43mlal_dict\u001b[49m\u001b[43m,\u001b[49m\u001b[43m \u001b[49m\u001b[38;5;28;43mself\u001b[39;49m\u001b[38;5;241;43m.\u001b[39;49m\u001b[43m_lal_generator\u001b[49m\u001b[43m)\u001b[49m\n\u001b[1;32m    342\u001b[0m hp, hc \u001b[38;5;241m=\u001b[39m to_gwpy_Series(hp, name\u001b[38;5;241m=\u001b[39m\u001b[38;5;124m'\u001b[39m\u001b[38;5;124mhplus\u001b[39m\u001b[38;5;124m'\u001b[39m), to_gwpy_Series(hc, name\u001b[38;5;241m=\u001b[39m\u001b[38;5;124m'\u001b[39m\u001b[38;5;124mhcross\u001b[39m\u001b[38;5;124m'\u001b[39m)\n\u001b[1;32m    343\u001b[0m \u001b[38;5;28;01mreturn\u001b[39;00m hp, hc\n",
      "File \u001b[0;32m~/lalsuite/_inst/lib/python3.10/site-packages/lalsimulation/gwsignal/core/errors.py:19\u001b[0m, in \u001b[0;36mmapexception.<locals>.wrapper\u001b[0;34m(*args, **kwargs)\u001b[0m\n\u001b[1;32m     17\u001b[0m lalerr \u001b[38;5;241m=\u001b[39m lal\u001b[38;5;241m.\u001b[39mGetBaseErrno()\n\u001b[1;32m     18\u001b[0m exception \u001b[38;5;241m=\u001b[39m exceptionmap[lalerr] \u001b[38;5;28;01mif\u001b[39;00m lalerr \u001b[38;5;129;01min\u001b[39;00m exceptionmap \u001b[38;5;28;01melse\u001b[39;00m e\n\u001b[0;32m---> 19\u001b[0m \u001b[38;5;28;01mraise\u001b[39;00m exception \u001b[38;5;28;01mfrom\u001b[39;00m \u001b[38;5;28mNone\u001b[39m\n",
      "    \u001b[0;31m[... skipping hidden 1 frame]\u001b[0m\n",
      "Cell \u001b[0;32mIn[12], line 1\u001b[0m\n\u001b[0;32m----> 1\u001b[0m hp, hc \u001b[38;5;241m=\u001b[39m \u001b[43mwfm\u001b[49m\u001b[38;5;241;43m.\u001b[39;49m\u001b[43mGenerateTDWaveform\u001b[49m\u001b[43m(\u001b[49m\u001b[43mpython_dict\u001b[49m\u001b[43m,\u001b[49m\u001b[43m \u001b[49m\u001b[43mgen\u001b[49m\u001b[43m)\u001b[49m\n",
      "File \u001b[0;32m~/lalsuite/_inst/lib/python3.10/site-packages/lalsimulation/gwsignal/core/waveform.py:626\u001b[0m, in \u001b[0;36mGenerateTDWaveform\u001b[0;34m(parameter_dict, generator)\u001b[0m\n\u001b[1;32m    624\u001b[0m \u001b[38;5;28;01mif\u001b[39;00m conditioning \u001b[38;5;129;01mand\u001b[39;00m conditioning_routines\u001b[38;5;241m==\u001b[39m\u001b[38;5;124m'\u001b[39m\u001b[38;5;124mgwsignal\u001b[39m\u001b[38;5;124m'\u001b[39m:\n\u001b[1;32m    625\u001b[0m     generator_func \u001b[38;5;241m=\u001b[39m conditioning_generator(generator)\n\u001b[0;32m--> 626\u001b[0m     hp, hc \u001b[38;5;241m=\u001b[39m \u001b[43mgenerator_func\u001b[49m\u001b[43m(\u001b[49m\u001b[43mparameter_dict\u001b[49m\u001b[43m,\u001b[49m\u001b[43m \u001b[49m\u001b[43mgenerator\u001b[49m\u001b[43m)\u001b[49m\n\u001b[1;32m    627\u001b[0m \u001b[38;5;28;01melse\u001b[39;00m:\n\u001b[1;32m    628\u001b[0m     hp, hc \u001b[38;5;241m=\u001b[39m generator\u001b[38;5;241m.\u001b[39mgenerate_td_waveform(\u001b[38;5;241m*\u001b[39m\u001b[38;5;241m*\u001b[39mparameter_dict)\n",
      "File \u001b[0;32m~/lalsuite/_inst/lib/python3.10/site-packages/lalsimulation/gwsignal/core/waveform_conditioning.py:92\u001b[0m, in \u001b[0;36mgenerate_conditioned_td_waveform_from_td\u001b[0;34m(parameter_dict, generator)\u001b[0m\n\u001b[1;32m     90\u001b[0m \u001b[38;5;66;03m# Generate the new waveform\u001b[39;00m\n\u001b[1;32m     91\u001b[0m new_parameters[\u001b[38;5;124m'\u001b[39m\u001b[38;5;124mcondition\u001b[39m\u001b[38;5;124m'\u001b[39m]\u001b[38;5;241m=\u001b[39m\u001b[38;5;241m0\u001b[39m\n\u001b[0;32m---> 92\u001b[0m hp, hc \u001b[38;5;241m=\u001b[39m \u001b[43mwave\u001b[49m\u001b[38;5;241;43m.\u001b[39;49m\u001b[43mGenerateTDWaveform\u001b[49m\u001b[43m(\u001b[49m\u001b[43mnew_parameters\u001b[49m\u001b[43m,\u001b[49m\u001b[43m \u001b[49m\u001b[43mgenerator\u001b[49m\u001b[43m)\u001b[49m\n\u001b[1;32m     94\u001b[0m times \u001b[38;5;241m=\u001b[39m hp\u001b[38;5;241m.\u001b[39mtimes\n\u001b[1;32m     95\u001b[0m dt \u001b[38;5;241m=\u001b[39m hp\u001b[38;5;241m.\u001b[39mdt\u001b[38;5;241m.\u001b[39mvalue\n",
      "File \u001b[0;32m~/lalsuite/_inst/lib/python3.10/site-packages/lalsimulation/gwsignal/core/waveform.py:628\u001b[0m, in \u001b[0;36mGenerateTDWaveform\u001b[0;34m(parameter_dict, generator)\u001b[0m\n\u001b[1;32m    626\u001b[0m     hp, hc \u001b[38;5;241m=\u001b[39m generator_func(parameter_dict, generator)\n\u001b[1;32m    627\u001b[0m \u001b[38;5;28;01melse\u001b[39;00m:\n\u001b[0;32m--> 628\u001b[0m     hp, hc \u001b[38;5;241m=\u001b[39m \u001b[43mgenerator\u001b[49m\u001b[38;5;241;43m.\u001b[39;49m\u001b[43mgenerate_td_waveform\u001b[49m\u001b[43m(\u001b[49m\u001b[38;5;241;43m*\u001b[39;49m\u001b[38;5;241;43m*\u001b[39;49m\u001b[43mparameter_dict\u001b[49m\u001b[43m)\u001b[49m\n\u001b[1;32m    630\u001b[0m \u001b[38;5;66;03m#hp, hc = to_gwpy_Series(hp), to_gwpy_Series(hc)\u001b[39;00m\n\u001b[1;32m    631\u001b[0m \u001b[38;5;28;01mreturn\u001b[39;00m gw\u001b[38;5;241m.\u001b[39mGravitationalWavePolarizations(hp, hc)\n",
      "File \u001b[0;32m~/lalsuite/_inst/lib/python3.10/site-packages/lalsimulation/gwsignal/core/waveform.py:341\u001b[0m, in \u001b[0;36mLALCompactBinaryCoalescenceGenerator.generate_td_waveform\u001b[0;34m(self, **parameters)\u001b[0m\n\u001b[1;32m    337\u001b[0m \u001b[38;5;129m@err\u001b[39m\u001b[38;5;241m.\u001b[39mmapexception\n\u001b[1;32m    338\u001b[0m \u001b[38;5;28;01mdef\u001b[39;00m \u001b[38;5;21mgen_pol_func\u001b[39m(lal_dict, lal_generator):\n\u001b[1;32m    339\u001b[0m     \u001b[38;5;28;01mreturn\u001b[39;00m \u001b[38;5;28mself\u001b[39m\u001b[38;5;241m.\u001b[39m_pol_gen_function(lal_dict, lal_generator)\n\u001b[0;32m--> 341\u001b[0m hp, hc \u001b[38;5;241m=\u001b[39m \u001b[43mgen_pol_func\u001b[49m\u001b[43m(\u001b[49m\u001b[38;5;28;43mself\u001b[39;49m\u001b[38;5;241;43m.\u001b[39;49m\u001b[43mlal_dict\u001b[49m\u001b[43m,\u001b[49m\u001b[43m \u001b[49m\u001b[38;5;28;43mself\u001b[39;49m\u001b[38;5;241;43m.\u001b[39;49m\u001b[43m_lal_generator\u001b[49m\u001b[43m)\u001b[49m\n\u001b[1;32m    342\u001b[0m hp, hc \u001b[38;5;241m=\u001b[39m to_gwpy_Series(hp, name\u001b[38;5;241m=\u001b[39m\u001b[38;5;124m'\u001b[39m\u001b[38;5;124mhplus\u001b[39m\u001b[38;5;124m'\u001b[39m), to_gwpy_Series(hc, name\u001b[38;5;241m=\u001b[39m\u001b[38;5;124m'\u001b[39m\u001b[38;5;124mhcross\u001b[39m\u001b[38;5;124m'\u001b[39m)\n\u001b[1;32m    343\u001b[0m \u001b[38;5;28;01mreturn\u001b[39;00m hp, hc\n",
      "File \u001b[0;32m~/lalsuite/_inst/lib/python3.10/site-packages/lalsimulation/gwsignal/core/errors.py:19\u001b[0m, in \u001b[0;36mmapexception.<locals>.wrapper\u001b[0;34m(*args, **kwargs)\u001b[0m\n\u001b[1;32m     17\u001b[0m lalerr \u001b[38;5;241m=\u001b[39m lal\u001b[38;5;241m.\u001b[39mGetBaseErrno()\n\u001b[1;32m     18\u001b[0m exception \u001b[38;5;241m=\u001b[39m exceptionmap[lalerr] \u001b[38;5;28;01mif\u001b[39;00m lalerr \u001b[38;5;129;01min\u001b[39;00m exceptionmap \u001b[38;5;28;01melse\u001b[39;00m e\n\u001b[0;32m---> 19\u001b[0m \u001b[38;5;28;01mraise\u001b[39;00m exception \u001b[38;5;28;01mfrom\u001b[39;00m \u001b[38;5;28mNone\u001b[39m\n",
      "\u001b[0;31mValueError\u001b[0m: Input domain error"
     ]
    }
   ],
   "source": [
    "hp, hc = wfm.GenerateTDWaveform(python_dict, gen)"
   ]
  }
 ],
 "metadata": {
  "kernelspec": {
   "display_name": "lalsuite-dev",
   "language": "python",
   "name": "lalsuite-dev"
  },
  "language_info": {
   "codemirror_mode": {
    "name": "ipython",
    "version": 3
   },
   "file_extension": ".py",
   "mimetype": "text/x-python",
   "name": "python",
   "nbconvert_exporter": "python",
   "pygments_lexer": "ipython3",
   "version": "3.10.6"
  }
 },
 "nbformat": 4,
 "nbformat_minor": 5
}
